{
 "cells": [
  {
   "cell_type": "markdown",
   "metadata": {},
   "source": [
    "## 1. What Is Regression"
   ]
  },
  {
   "cell_type": "markdown",
   "metadata": {},
   "source": [
    "회귀(Regression)은 현대 통계학을 떠받치고 있는 주요 기둥 중 하나이다.  \n",
    "회귀 분석은 유전적 특성을 연구하던 영국의 통계학자 갈톤(Galton)이 수행한 연구에서 유래했다는 것이 일반적  \n",
    "  \n",
    "대표적인 예로 부모의 키가 아주 크더라도 자식의 키가 부모보다 더 커서 세대를 이어가면서 무한정 커지는 것은 아니며, 부모의 키가 아주 작더라도 자식의 키가 부모보다 더 작아서 세대를 이어가며 무한정 작아지는 것이 아니라는 것.  \n",
    "즉, 사람의 키는 평균키로 회귀하려는 경향을 가진다는 자연의 법칙이 있다.  \n",
    "  \n",
    "`회귀 분석`**은 이처럼 데이터 값이 평균과 같은 일정한 값으로 돌아가려는 경향을 이용한 통계학 기법**  \n",
    "  \n",
    "회귀는 여러 개의 독립변수와 하나의 종속변수 간의 상관관계를 모델링하는 기법을 통칭  \n",
    "\n",
    "$Y = W_1*X_1 + W_2*X_2+W_3*X_3+...+W_n * X_n $ 이라는 선형 회귀식을 예로 들면 $Y$는 `종속변수`, $X_1, X_2, X_3,...,X_n$는 `독립변수`, $W_1, W_2, W_3,...,W_n$은 독립변수의 값에 영향을 미치는 `회귀 계수(Regression coefficients)`이다  \n",
    "  \n",
    "  \n",
    "머신러닝 관점에서 보면 독립변수는 피처, 종속변수는 결정 값이다.  \n",
    "  \n",
    "머신러닝 회귀의 예측에서 가장 핵심은 주어진 피처와 결정 값 데이터 기반에서 학습을 통해 **최적의 회귀 계수**를 찾는 것이다  "
   ]
  },
  {
   "attachments": {
    "image.png": {
     "image/png": "[encoded data removed]"
    }
   },
   "cell_type": "markdown",
   "metadata": {},
   "source": [
    "* 회귀의 여러가지 유형\n",
    "![image.png](attachment:image.png)"
   ]
  },
  {
   "cell_type": "markdown",
   "metadata": {},
   "source": [
    "`지도학습`은 두 가지 유형으로 나뉘는데, 분류와 회귀로 나뉜다.  \n",
    "* 분류(Classification) : 예측값이 카테고리와 같은 이상형 클래스 값  \n",
    "* 회귀(Regression) : 예측값이 연속형 숫자 값  \n",
    "  \n",
    "여러가지 회귀 중에서 일반적으로 많이 쓰이는 것은 `선형회귀`이다.  \n",
    "  \n",
    "`선형회귀`는 실제값과 예측값의 차이를 최소화하는 직성현 회귀선을 최적화하는 방식  \n",
    "선형 회귀 모델은 규제(Regularization)방법에 따라 다시 별도의 유형으로 나뉜다.  \n",
    "-> 규제 : 일반적인 선형 회귀의 과적합 문제를 해결하기 위해서 회귀 계수에 페널티 값을 적용하는 것을 의미  \n",
    "  \n",
    "**< 대표적인 선형 회귀 모델 >**\n",
    "* **일반 선형 회귀** : 예측값과 실제값의 RSS(Residual Sum of Squares)를 최소화할 수 있도록 회귀 계수를 최적화하며, 규제(Regularization)를 적용하지 않은 모델  \n",
    "* **릿지(Ridge)** : 선형 회귀에 L2 규제를 추가한 회귀 모델. L2 규제는 상대적으로 큰 회귀 계수 값의 예측 영향도를 감소시키기 위해서 회귀 계수값을 더 작게 만드는 규제 모델  \n",
    "* **라쏘(Lasso)** : 선형 회귀에 L1 규제를 추가한 회귀 모델. L1 규제는 예측 영향적이 작은 피처의 회귀 계수를 0으로 바꿔 회귀 예측시 피처가 선택되지 않도록 하는 모델. 이러한 특성 때문에 L1 규제는 피처 선택 기능으로도 불림  \n",
    "  \n",
    "* **엘라스틱넷(ELasticNet)** : L2, L1 규제를 함께 결합한 모델. 주로 피처가 많은 데이터 세트에서 적용되며, L1 규제로 피처의 개수를 줄임과 동시에 L2 규제로 계수 값의 크기를 감소  \n",
    "* **로지스틱회귀(Logistic Regression)** : 사실은 분류에 사용되는 선형 모델. 로지스틱 회귀는 매우 강력한 분류 알고리즘. 일반적으로 이진 분류 뿐만 아니라 희소 영역의 분류, 텍스트 분류와 같은 영역에서 뛰어난 예측 성능을 보임"
   ]
  }
 ],
 "metadata": {
  "kernelspec": {
   "display_name": "Python 3",
   "language": "python",
   "name": "python3"
  },
  "language_info": {
   "codemirror_mode": {
    "name": "ipython",
    "version": 3
   },
   "file_extension": ".py",
   "mimetype": "text/x-python",
   "name": "python",
   "nbconvert_exporter": "python",
   "pygments_lexer": "ipython3",
   "version": "3.8.5"
  }
 },
 "nbformat": 4,
 "nbformat_minor": 4
}
